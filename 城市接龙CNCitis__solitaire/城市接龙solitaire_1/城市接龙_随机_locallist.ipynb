{
 "cells": [
  {
   "cell_type": "code",
   "execution_count": 1,
   "metadata": {},
   "outputs": [],
   "source": [
    "from pypinyin import pinyin, lazy_pinyin, Style\n",
    "import pandas as pd\n",
    "import random"
   ]
  },
  {
   "cell_type": "code",
   "execution_count": 21,
   "metadata": {},
   "outputs": [],
   "source": [
    "def getcitylastname(x):\n",
    "    '''得到城市名的尾字拼音'''\n",
    "    city_lastname = lazy_pinyin(x)[-1]\n",
    "    return city_lastname"
   ]
  },
  {
   "cell_type": "code",
   "execution_count": 28,
   "metadata": {},
   "outputs": [],
   "source": [
    "def nextcities(x,y):\n",
    "    '''得到一个可接城市的list'''\n",
    "    return [city for city in y if getcitylastname(x) == lazy_pinyin(city,errors='ignore')[0]]"
   ]
  },
  {
   "cell_type": "code",
   "execution_count": 34,
   "metadata": {},
   "outputs": [],
   "source": [
    "def game(number):\n",
    "    '''正式游戏，参数number是接龙次数'''\n",
    "    print('Loading game...')\n",
    "    fo = open('city_list.txt','r')\n",
    "    cities = fo.readlines() #中国城市和地方名\n",
    "    china_cities = [city.strip() for city in cities]\n",
    "    fo.close()\n",
    "    \n",
    "    print('游戏开始了')\n",
    "    next_city = input('请输入一个城市或地名：')\n",
    "    while number > 0:\n",
    "        city_list = nextcities(next_city ,china_cities)\n",
    "        if len(city_list) == 0:\n",
    "            print('下面没有了')\n",
    "            break\n",
    "        else:\n",
    "            next_city = random.choice(city_list)\n",
    "            print('下一个城市是：',next_city)\n",
    "        number -= 1\n",
    "        if number == 0:\n",
    "            print('已经跑完了')"
   ]
  },
  {
   "cell_type": "code",
   "execution_count": 39,
   "metadata": {},
   "outputs": [
    {
     "name": "stdout",
     "output_type": "stream",
     "text": [
      "Loading game...\n",
      "游戏开始了\n",
      "请输入一个城市或地名：深圳\n",
      "下一个城市是： 镇雄\n",
      "下一个城市是： 雄县\n",
      "下一个城市是： 仙居\n",
      "下一个城市是： 巨野\n",
      "下一个城市是： 叶县\n",
      "下一个城市是： 线西\n",
      "下一个城市是： 昔阳\n",
      "下一个城市是： 阳朔\n",
      "下一个城市是： 朔城\n",
      "下一个城市是： 城子河\n",
      "已经跑完了\n"
     ]
    }
   ],
   "source": [
    "game(10)"
   ]
  },
  {
   "cell_type": "code",
   "execution_count": null,
   "metadata": {},
   "outputs": [],
   "source": []
  }
 ],
 "metadata": {
  "kernelspec": {
   "display_name": "Python 3",
   "language": "python",
   "name": "python3"
  },
  "language_info": {
   "codemirror_mode": {
    "name": "ipython",
    "version": 3
   },
   "file_extension": ".py",
   "mimetype": "text/x-python",
   "name": "python",
   "nbconvert_exporter": "python",
   "pygments_lexer": "ipython3",
   "version": "3.7.3"
  }
 },
 "nbformat": 4,
 "nbformat_minor": 2
}
